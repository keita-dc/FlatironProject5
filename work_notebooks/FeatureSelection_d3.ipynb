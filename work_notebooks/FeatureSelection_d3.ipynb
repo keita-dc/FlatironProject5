{
 "cells": [
  {
   "cell_type": "code",
   "execution_count": 24,
   "metadata": {},
   "outputs": [],
   "source": [
    "#testing results with Lasso and Elastic Net - expected 15/260 most important features\n",
    "import pandas as pd\n",
    "from sklearn.pipeline import Pipeline\n",
    "from sklearn.preprocessing import StandardScaler\n",
    "from sklearn.model_selection import train_test_split\n",
    "from sklearn.linear_model import Lasso, ElasticNet"
   ]
  },
  {
   "cell_type": "code",
   "execution_count": 17,
   "metadata": {},
   "outputs": [],
   "source": [
    "all_data = pd.read_csv('../data/election_census_final')\n",
    "description = pd.read_csv('../data/var_description.csv')"
   ]
  },
  {
   "cell_type": "code",
   "execution_count": 20,
   "metadata": {},
   "outputs": [],
   "source": [
    "y = all_data.target"
   ]
  },
  {
   "cell_type": "code",
   "execution_count": 21,
   "metadata": {},
   "outputs": [],
   "source": [
    "X = all_data.iloc[:, 8:268]"
   ]
  },
  {
   "cell_type": "code",
   "execution_count": 25,
   "metadata": {},
   "outputs": [],
   "source": [
    "X_train, X_test, y_train, y_test = train_test_split(X, y, random_state=0, stratify=y)"
   ]
  },
  {
   "cell_type": "code",
   "execution_count": 40,
   "metadata": {},
   "outputs": [
    {
     "data": {
      "text/plain": [
       "array([-0.        , -0.        , -0.        , -0.        ,  0.        ,\n",
       "        0.        ,  0.        , -0.        , -0.        , -0.        ,\n",
       "        0.        , -0.        ,  0.        ,  0.        ,  0.        ,\n",
       "       -0.        ,  0.        ,  0.        , -0.        , -0.        ,\n",
       "       -0.        , -0.        , -0.        ,  0.        , -0.        ,\n",
       "       -0.        , -0.        , -0.        ,  0.        ,  0.07135662,\n",
       "        0.        ,  0.03555441, -0.        ,  0.        , -0.        ,\n",
       "        0.        ,  0.        ,  0.        ,  0.        , -0.0174592 ,\n",
       "       -0.        , -0.        ,  0.        ,  0.        , -0.        ,\n",
       "        0.        , -0.        , -0.        ,  0.        , -0.        ,\n",
       "       -0.        , -0.        , -0.        , -0.        ,  0.        ,\n",
       "       -0.        ,  0.        , -0.        , -0.        ,  0.        ,\n",
       "       -0.00578201, -0.        , -0.01602839,  0.        , -0.        ,\n",
       "       -0.        ,  0.        ,  0.        , -0.        , -0.        ,\n",
       "       -0.        ,  0.        , -0.        , -0.        , -0.        ,\n",
       "       -0.        , -0.        ,  0.        ,  0.        ,  0.        ,\n",
       "        0.        , -0.        ,  0.        , -0.        , -0.        ,\n",
       "       -0.        ,  0.        , -0.        ,  0.        , -0.00028589,\n",
       "        0.        , -0.        , -0.        , -0.        , -0.00300702,\n",
       "       -0.        , -0.        ,  0.        ,  0.        ,  0.        ,\n",
       "       -0.        , -0.        ,  0.        , -0.        ,  0.        ,\n",
       "       -0.        , -0.        , -0.        , -0.        ,  0.        ,\n",
       "       -0.        , -0.        , -0.        , -0.        , -0.00657658,\n",
       "       -0.        , -0.        , -0.02099287,  0.        ,  0.        ,\n",
       "       -0.        ,  0.        , -0.        , -0.        , -0.        ,\n",
       "       -0.        ,  0.        , -0.        , -0.        , -0.        ,\n",
       "       -0.        , -0.        , -0.        ,  0.        ,  0.        ,\n",
       "       -0.        ,  0.        , -0.        ,  0.        , -0.        ,\n",
       "       -0.        ,  0.        ,  0.        ,  0.        , -0.        ,\n",
       "        0.        , -0.00915198,  0.        ,  0.        , -0.        ,\n",
       "       -0.        , -0.        ,  0.        ,  0.01139558, -0.        ,\n",
       "       -0.        ,  0.        , -0.        , -0.0296564 , -0.        ,\n",
       "       -0.        ,  0.        , -0.        , -0.        , -0.        ,\n",
       "        0.        ,  0.00105163, -0.        , -0.        ,  0.        ,\n",
       "        0.        , -0.        , -0.        , -0.        ,  0.        ,\n",
       "        0.        ,  0.        , -0.        ,  0.        , -0.        ,\n",
       "       -0.0014538 , -0.        , -0.        , -0.        , -0.        ,\n",
       "       -0.        , -0.        , -0.        ,  0.        , -0.        ,\n",
       "        0.        , -0.        , -0.        , -0.        ,  0.        ,\n",
       "        0.        ,  0.        , -0.        , -0.        ,  0.        ,\n",
       "        0.        ,  0.        ,  0.        , -0.        ,  0.        ,\n",
       "        0.        ,  0.        , -0.        ,  0.        , -0.        ,\n",
       "       -0.        , -0.        ,  0.        ,  0.        , -0.        ,\n",
       "        0.        , -0.        , -0.        ,  0.        , -0.        ,\n",
       "        0.        ,  0.        ,  0.        ,  0.        , -0.        ,\n",
       "       -0.        ,  0.        ,  0.0195765 , -0.        ,  0.        ,\n",
       "       -0.        ,  0.        , -0.        , -0.        , -0.        ,\n",
       "       -0.        ,  0.        , -0.        ,  0.0125776 ,  0.        ,\n",
       "        0.        ,  0.        , -0.        , -0.        ,  0.        ,\n",
       "        0.        , -0.        ,  0.        , -0.        , -0.        ,\n",
       "       -0.        , -0.        ,  0.        , -0.        , -0.        ,\n",
       "       -0.        ,  0.        ,  0.        , -0.        , -0.        ])"
      ]
     },
     "execution_count": 40,
     "metadata": {},
     "output_type": "execute_result"
    }
   ],
   "source": [
    "scaler = StandardScaler()\n",
    "X_train_scaled = scaler.fit_transform(X_train)\n",
    "X_test_scaled = scaler.fit(X_test)\n",
    "elastic_net = ElasticNet(alpha=0.1, l1_ratio=0.5, random_state=0)\n",
    "elastic_net.fit(X_train_scaled, y_train).coef_"
   ]
  },
  {
   "cell_type": "code",
   "execution_count": 39,
   "metadata": {},
   "outputs": [
    {
     "data": {
      "text/plain": [
       "array([-0., -0., -0., -0.,  0.,  0.,  0., -0., -0., -0.,  0., -0.,  0.,\n",
       "        0.,  0., -0.,  0., -0., -0., -0., -0., -0., -0.,  0., -0., -0.,\n",
       "       -0., -0.,  0.,  0.,  0.,  0., -0.,  0., -0.,  0.,  0.,  0., -0.,\n",
       "       -0., -0., -0.,  0.,  0., -0.,  0., -0., -0.,  0., -0., -0., -0.,\n",
       "       -0.,  0., -0., -0.,  0.,  0., -0.,  0., -0., -0., -0., -0., -0.,\n",
       "       -0.,  0.,  0., -0., -0., -0.,  0., -0., -0., -0., -0., -0.,  0.,\n",
       "       -0.,  0.,  0., -0.,  0., -0., -0., -0., -0.,  0.,  0., -0.,  0.,\n",
       "        0.,  0., -0., -0., -0., -0., -0.,  0.,  0., -0., -0.,  0., -0.,\n",
       "        0., -0.,  0., -0., -0.,  0., -0., -0., -0., -0., -0., -0.,  0.,\n",
       "       -0.,  0.,  0., -0., -0.,  0., -0., -0., -0.,  0.,  0., -0., -0.,\n",
       "       -0., -0., -0.,  0.,  0., -0.,  0., -0., -0., -0., -0.,  0.,  0.,\n",
       "        0., -0.,  0., -0.,  0.,  0.,  0., -0., -0.,  0.,  0., -0., -0.,\n",
       "        0., -0., -0., -0., -0.,  0., -0., -0., -0.,  0.,  0., -0., -0.,\n",
       "        0.,  0., -0., -0.,  0.,  0., -0.,  0., -0.,  0., -0., -0., -0.,\n",
       "       -0., -0., -0.,  0., -0.,  0.,  0., -0.,  0., -0., -0., -0., -0.,\n",
       "        0.,  0., -0., -0.,  0.,  0.,  0., -0., -0.,  0.,  0.,  0., -0.,\n",
       "       -0., -0., -0., -0.,  0., -0.,  0.,  0., -0., -0., -0., -0.,  0.,\n",
       "        0., -0.,  0., -0., -0.,  0.,  0., -0.,  0., -0., -0., -0., -0.,\n",
       "       -0., -0.,  0., -0.,  0.,  0.,  0., -0., -0.,  0.,  0.,  0., -0.,\n",
       "        0., -0., -0., -0., -0.,  0., -0., -0., -0.,  0.,  0.,  0., -0.])"
      ]
     },
     "execution_count": 39,
     "metadata": {},
     "output_type": "execute_result"
    }
   ],
   "source": [
    "#this is way we could not use Lass0 --> too many correlated features\n",
    "lasso_reg = Lasso()\n",
    "lasso_reg.fit(X_train_scaled, y_train).coef_"
   ]
  },
  {
   "cell_type": "code",
   "execution_count": 39,
   "metadata": {},
   "outputs": [
    {
     "data": {
      "text/plain": [
       "array([0.44147156])"
      ]
     },
     "execution_count": 39,
     "metadata": {},
     "output_type": "execute_result"
    }
   ],
   "source": [
    "#using Elastc net instead of Lasso as features are numerous and highly correlated\n",
    "from sklearn.linear_model import ElasticNet\n",
    "elastic_net = ElasticNet(alpha=0.1, l1_ratio=0.5)\n",
    "elastic_net.fit(X, y)\n",
    "elastic_net.predict([[1.5]])\n"
   ]
  },
  {
   "cell_type": "code",
   "execution_count": null,
   "metadata": {},
   "outputs": [],
   "source": []
  }
 ],
 "metadata": {
  "kernelspec": {
   "display_name": "Python 3",
   "language": "python",
   "name": "python3"
  },
  "language_info": {
   "codemirror_mode": {
    "name": "ipython",
    "version": 3
   },
   "file_extension": ".py",
   "mimetype": "text/x-python",
   "name": "python",
   "nbconvert_exporter": "python",
   "pygments_lexer": "ipython3",
   "version": "3.7.3"
  }
 },
 "nbformat": 4,
 "nbformat_minor": 2
}
